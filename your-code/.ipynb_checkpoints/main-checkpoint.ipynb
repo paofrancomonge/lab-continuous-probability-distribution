{
 "cells": [
  {
   "cell_type": "markdown",
   "metadata": {},
   "source": [
    "# Before your start:\n",
    "\n",
    "    Read the README.md file\n",
    "    Comment as much as you can and use the resources (README.md file)\n",
    "    Happy learning!"
   ]
  },
  {
   "cell_type": "markdown",
   "metadata": {},
   "source": [
    "In this exercise, we  will generate random numbers from the continuous disributions we learned in the lesson. There are two ways to generate random numbers:\n",
    "\n",
    "1. Using the numpy library \n",
    "1. using the Scipy library \n",
    "\n",
    "Use either or both of the lbraries in this exercise."
   ]
  },
  {
   "cell_type": "markdown",
   "metadata": {},
   "source": [
    "## Uniform Distribution\n",
    "\n",
    "To generate uniform random numbers between any two given values using scipy, we can either use the following code or the code that we have\n",
    "discussed in class:"
   ]
  },
  {
   "cell_type": "code",
   "execution_count": 16,
   "metadata": {},
   "outputs": [
    {
     "name": "stdout",
     "output_type": "stream",
     "text": [
      "[2.85383272 2.1933974  2.75536565 2.6922728  2.64859547 2.287338\n",
      " 2.92952282 2.31162761 2.73641797 2.00195581]\n"
     ]
    }
   ],
   "source": [
    "from scipy.stats import uniform\n",
    "x = uniform.rvs(size=10)\n",
    "a = 2\n",
    "b = 3\n",
    "randoms  = a + (b-a)*x\n",
    "print(randoms)"
   ]
  },
  {
   "cell_type": "markdown",
   "metadata": {},
   "source": [
    "**Your task:**\n",
    "\n",
    "1. Based on the code above, write a function that generates uniformly distributed random numbers. There are several requirements for your function:\n",
    "    * It should accept 3 parameters: \n",
    "        * `bottom` - the lower boundary of the generated numbers\n",
    "        * `ceiling` - the upper boundary of the generated numbers\n",
    "        * `count` - how many numbers to generate\n",
    "    * It should return an array of uniformly distributed random numbers\n",
    "\n",
    "1. Call your function with 2 sets of params below:\n",
    "    * bottom=10, ceiling=15, count=100\n",
    "    * bottom=10, ceiling=60, count=1,000\n",
    "\n",
    "1. Plot the uniform distributions generated above using histograms, where x axis is the value and y axis is the count. Let the histogram's number of bins be 10.\n",
    "\n",
    "Your output should look like below:\n",
    "\n",
    "![uniform distribution](ud.png)"
   ]
  },
  {
   "cell_type": "code",
   "execution_count": 17,
   "metadata": {},
   "outputs": [],
   "source": [
    "import numpy as np \n",
    "import matplotlib.pyplot as plt \n",
    "from scipy.stats import uniform"
   ]
  },
  {
   "cell_type": "code",
   "execution_count": 18,
   "metadata": {},
   "outputs": [],
   "source": [
    "def uniform_1 (bottom, ceiling, count):\n",
    "    x = uniform.rvs(size = count)\n",
    "    randoms  = bottom + ((ceiling - bottom)* x)\n",
    "    return(randoms)"
   ]
  },
  {
   "cell_type": "code",
   "execution_count": 22,
   "metadata": {},
   "outputs": [],
   "source": [
    "# your code here\n",
    "\n",
    "#https://numpy.org/doc/stable/reference/random/generated/numpy.random.uniform.html\n",
    "def uniform_2 (bottom, ceiling, count):\n",
    "    y = np.random.uniform(low = bottom, high = ceiling, size = count)\n",
    "    return(y)"
   ]
  },
  {
   "cell_type": "code",
   "execution_count": 24,
   "metadata": {},
   "outputs": [
    {
     "data": {
      "text/plain": [
       "array([36.82371911, 43.05484338, 25.4938955 , 53.35757082, 39.85324921,\n",
       "       46.45150618, 16.18238194, 16.64919441, 31.40507198, 41.78057064,\n",
       "       48.93414097, 32.01391674, 34.90128949, 43.73267834, 27.10803884,\n",
       "       24.11045638, 42.98510001, 38.70652551, 54.93509201, 49.13022743,\n",
       "       12.84464614, 32.99371304, 49.46891816, 59.55277451, 55.78230123,\n",
       "       40.1321501 , 52.36675363, 43.69956122, 49.40924672, 49.47808334,\n",
       "       18.42383629, 41.67256403, 20.77051212, 28.02172636, 39.87173652,\n",
       "       11.95624934, 28.8790642 , 25.96181219, 15.05224602, 41.01309189,\n",
       "       25.15923372, 53.47174106, 25.93398685, 47.28920387, 35.37627579,\n",
       "       40.30776719, 44.58628221, 38.43004132, 50.03567715, 48.40716887,\n",
       "       56.96249776, 45.24712243, 41.74332156, 15.92446894, 21.71819633,\n",
       "       43.52070165, 31.34313288, 27.22776713, 53.69244466, 38.20004715,\n",
       "       53.44805191, 33.88559662, 52.95108993, 10.84051536, 29.87323291,\n",
       "       19.92455053, 53.3414974 , 59.76413339, 55.33487328, 29.13552036,\n",
       "       29.45296104, 59.00218609, 41.59370901, 44.24346807, 13.92563829,\n",
       "       31.36501599, 21.12075287, 35.26643785, 31.12954656, 18.66694909,\n",
       "       10.72520018, 57.85514617, 38.70968953, 10.76783895, 36.48012994,\n",
       "       30.64177399, 26.96085858, 11.1804223 , 54.08014653, 11.35215322,\n",
       "       35.62774942, 20.58591539, 58.69312   , 32.92203888, 49.04594535,\n",
       "       22.38333519, 34.46016033, 35.27301182, 27.97074051, 44.45821154,\n",
       "       43.16716551, 12.18950471, 21.46169035, 47.37855822, 26.05492977,\n",
       "       21.12911759, 31.07855903, 39.45256994, 38.2965432 , 36.02148159,\n",
       "       53.18027441, 36.63009957, 53.19263613, 50.34312636, 50.31484119,\n",
       "       18.82370051, 47.34764848, 10.01455063, 54.51827932, 15.48799698,\n",
       "       50.67446447, 16.0182068 , 40.26631389, 15.64561303, 14.34644176,\n",
       "       34.0599615 , 23.40632246, 44.68503647, 35.27445689, 37.99741254,\n",
       "       45.53275878, 54.61221479, 32.20586885, 48.50321746, 48.39020426,\n",
       "       35.52749338, 16.41877075, 17.06891079, 27.83642216, 54.05932496,\n",
       "       58.23686538, 49.11684423, 35.35710491, 28.1816262 , 13.21557435,\n",
       "       16.25898682, 55.43645985, 51.12932077, 38.75912233, 12.97457831,\n",
       "       36.30739798, 32.11824877, 30.75073825, 56.39161221, 55.4160393 ,\n",
       "       58.63842078, 27.34676577, 20.64567746, 13.95625044, 21.00752939,\n",
       "       38.87510935, 20.14632727, 14.8862304 , 30.57142642, 35.99820888,\n",
       "       56.75700758, 25.55768384, 11.64876952, 21.55601885, 57.83732606,\n",
       "       36.43532074, 58.50496835, 56.86707629, 36.46862723, 44.12449092,\n",
       "       25.9045387 , 16.42063917, 55.60105287, 25.42658851, 10.0482926 ,\n",
       "       23.54747729, 11.67055535, 47.98543541, 20.54627209, 40.43212964,\n",
       "       30.28638486, 32.72069181, 22.05035806, 19.80966209, 39.44046451,\n",
       "       43.05623603, 41.45457674, 37.71316387, 53.81278919, 27.4862521 ,\n",
       "       45.34808963, 38.11992071, 43.9481626 , 12.68579668, 46.36212752,\n",
       "       46.53378541, 32.62385351, 37.96097967, 33.9441701 , 53.60531461,\n",
       "       32.31012353, 56.06516361, 57.53369553, 22.27755862, 59.92039855,\n",
       "       44.54664827, 50.24038044, 41.85622901, 41.39739273, 10.27889445,\n",
       "       26.8079845 , 27.77640825, 35.16084733, 53.35289915, 44.30254192,\n",
       "       39.54216748, 14.97500505, 50.00506795, 16.01031075, 40.66812957,\n",
       "       27.6992298 , 52.48954267, 40.17869954, 21.83096039, 29.0808092 ,\n",
       "       28.12491045, 11.25959301, 25.10778685, 30.33715481, 53.89551728,\n",
       "       38.61842981, 56.34133321, 54.45318031, 34.81881742, 13.66847235,\n",
       "       22.73624705, 53.00334354, 37.52119158, 25.88987861, 30.46741614,\n",
       "       33.97413451, 54.14617151, 20.96748272, 10.95845507, 32.69104139,\n",
       "       23.84083143, 55.62448997, 17.12210046, 50.52607724, 42.79634593,\n",
       "       51.51246959, 51.53210204, 52.13583628, 41.72788983, 56.97510726,\n",
       "       44.48297086, 12.26812461, 10.70065366, 28.9011362 , 13.80235714,\n",
       "       23.68859892, 57.41507684, 18.43009554, 41.63565029, 34.10566873,\n",
       "       28.22356662, 24.23219928, 14.72239939, 27.14596551, 48.29441821,\n",
       "       41.76874653, 18.77179164, 57.61640589, 52.9329814 , 29.58424808,\n",
       "       16.84497707, 24.27067217, 28.89114874, 29.3016071 , 35.45995966,\n",
       "       37.39269212, 25.40382122, 30.01889278, 52.64089203, 44.99589926,\n",
       "       34.94740826, 24.80061549, 29.63252752, 39.89474941, 32.69775365,\n",
       "       32.95715727, 44.21281713, 36.24813802, 16.98901587, 36.84662476,\n",
       "       38.72928583, 48.2422134 , 48.56451525, 40.41631724, 55.32375599,\n",
       "       24.08488395, 46.44746089, 15.79776187, 11.98754049, 20.58050171,\n",
       "       33.84255552, 53.70651289, 28.87802118, 55.90465085, 54.96597795,\n",
       "       35.52575142, 52.29611309, 25.03348198, 17.55634547, 47.05922272,\n",
       "       18.30488777, 17.82136085, 28.51452595, 15.8114762 , 55.24503868,\n",
       "       33.34771447, 11.20376804, 46.73454676, 50.18449786, 42.06484789,\n",
       "       38.8766324 , 25.54351972, 56.22111364, 15.94366791, 42.78803664,\n",
       "       28.11295711, 29.55220636, 29.07445984, 36.54498439, 56.44311287,\n",
       "       51.23689775, 37.01869582, 53.11428727, 54.42587027, 59.47376587,\n",
       "       36.66580182, 46.12390991, 19.5707832 , 38.5458738 , 34.16890415,\n",
       "       48.27943076, 37.41914767, 29.38046047, 14.00752607, 58.54393967,\n",
       "       31.51153835, 26.52633856, 38.50646283, 24.48917334, 10.66789092,\n",
       "       22.02487568, 21.85144009, 13.5514683 , 46.49298235, 26.74196779,\n",
       "       45.45383965, 13.10556711, 43.52248542, 59.47357196, 34.33732282,\n",
       "       36.1839895 , 46.89454876, 56.93351707, 24.95484001, 32.09865778,\n",
       "       43.53857455, 55.49996825, 57.1484033 , 47.99258976, 50.20969122,\n",
       "       17.78336052, 23.61014023, 53.89320141, 16.09401291, 29.33838385,\n",
       "       36.67400796, 43.46588653, 15.07448812, 37.47130582, 29.00478091,\n",
       "       42.02512386, 37.76078753, 44.61705251, 33.59396577, 45.87587443,\n",
       "       17.83250846, 10.43296846, 49.52925609, 18.26137627, 39.57823578,\n",
       "       12.84785313, 47.61220197, 28.27977833, 12.09472621, 42.47256321,\n",
       "       21.45414657, 15.36877525, 56.92507907, 24.31679009, 49.68799651,\n",
       "       50.68008014, 51.39499784, 10.93573482, 40.05900476, 20.4272673 ,\n",
       "       46.09293477, 25.19708341, 10.36099052, 52.2031247 , 50.81569545,\n",
       "       44.37743078, 35.2328925 , 42.06442854, 42.19904141, 50.32811332,\n",
       "       19.07698728, 53.95242123, 16.42307476, 13.54492731, 54.20237884,\n",
       "       50.12752281, 36.74067447, 18.58163322, 10.85216838, 16.47066908,\n",
       "       57.79940437, 11.44280977, 20.89437942, 49.72828598, 42.74123205,\n",
       "       40.0428313 , 14.9662295 , 32.72453568, 14.96267432, 36.93667166,\n",
       "       55.23671402, 46.70388217, 19.17880165, 41.630303  , 40.28042772,\n",
       "       10.66488523, 19.1400921 , 45.96794298, 37.33989085, 33.87021925,\n",
       "       26.12205878, 47.17562381, 12.29871316, 36.68153298, 27.60741978,\n",
       "       40.72444919, 12.43664453, 20.43973852, 27.24018214, 23.8763534 ,\n",
       "       42.04613018, 53.25876971, 33.69222128, 31.34249818, 58.96989047,\n",
       "       56.34182433, 14.34543562, 23.36374172, 15.59968446, 10.45395518,\n",
       "       25.24280693, 52.67948501, 17.40700302, 51.31206404, 25.33580607,\n",
       "       24.81720195, 12.38151336, 25.9061639 , 38.13656645, 48.51102427,\n",
       "       30.73250541, 29.07263489, 57.59145011, 15.12371788, 42.34456841,\n",
       "       18.43409004, 52.58630859, 34.47437292, 50.39375288, 45.73496105,\n",
       "       37.53511689, 15.66538003, 54.6318242 , 13.99389451, 36.53039903,\n",
       "       44.9951342 , 48.9779848 , 38.56703432, 15.01667063, 37.08785492,\n",
       "       51.43987968, 39.75953475, 50.9826467 , 29.35732182, 19.94510821,\n",
       "       34.62379285, 32.22976681, 44.73759343, 19.73370764, 39.68233578,\n",
       "       37.14602154, 50.26345692, 43.54104112, 36.31745473, 24.64097066,\n",
       "       45.61406991, 32.00776745, 49.71923873, 24.10175338, 58.66673967,\n",
       "       55.66569339, 23.25757253, 25.13722501, 49.63298252, 30.60089985,\n",
       "       42.25023317, 33.64672692, 27.25577685, 38.36112291, 29.99474753,\n",
       "       59.53045676, 21.26477427, 57.42382777, 30.58562765, 26.25485502,\n",
       "       23.66380304, 57.13292237, 37.17381062, 31.10989441, 28.72386487,\n",
       "       18.64751731, 42.51054023, 36.9997079 , 32.22773522, 30.02048135,\n",
       "       35.13743367, 56.76709603, 51.97510256, 32.43500169, 56.9290849 ,\n",
       "       34.81540304, 13.13347057, 23.12628143, 41.17813644, 32.09897008,\n",
       "       20.39977872, 23.72574697, 53.24846183, 29.46313751, 24.61509807,\n",
       "       51.01548598, 43.37055094, 50.49557019, 29.64088202, 28.9851428 ,\n",
       "       31.14620731, 23.80844489, 52.44659434, 18.58071033, 13.84000072,\n",
       "       36.7622688 , 19.23356474, 36.21653196, 42.03409673, 38.63236169,\n",
       "       12.03409245, 35.1783258 , 19.50884013, 55.8328473 , 53.87124675,\n",
       "       50.14726988, 40.90871825, 44.70194766, 56.85168566, 24.95713422,\n",
       "       21.16664404, 30.43892021, 19.47601234, 55.79411213, 17.4424721 ,\n",
       "       15.67890756, 58.20967006, 13.13915151, 54.71281579, 28.91174324,\n",
       "       37.93962594, 58.56458855, 11.92993828, 30.00869246, 16.75955404,\n",
       "       36.56173606, 32.49640852, 28.64453722, 18.57944645, 24.53289852,\n",
       "       53.93885298, 57.93537023, 41.97460281, 47.50685284, 35.20895983,\n",
       "       34.7253436 , 52.35349961, 39.54111943, 57.71825195, 56.9059325 ,\n",
       "       16.06612855, 19.4855976 , 26.81562913, 15.04100426, 22.32134589,\n",
       "       34.36851576, 38.63363035, 37.48415555, 41.14672656, 21.26778837,\n",
       "       34.95752031, 22.40640316, 45.20574337, 20.1918019 , 14.51603989,\n",
       "       19.17520606, 32.7914324 , 12.06315002, 59.42182573, 47.68529284,\n",
       "       31.29098178, 23.44504746, 19.81212043, 14.96078455, 42.52261708,\n",
       "       59.06655862, 33.76993508, 33.01270894, 39.19192938, 48.87428863,\n",
       "       16.45751868, 30.3998523 , 51.16663999, 41.85007877, 21.2361017 ,\n",
       "       59.59625296, 20.51769855, 30.47848528, 33.53877816, 13.99764319,\n",
       "       32.6058555 , 45.98519978, 27.68788533, 55.74592204, 51.99647022,\n",
       "       31.8610515 , 55.97600704, 37.99964015, 19.95936792, 33.55281754,\n",
       "       25.5351923 , 48.51742216, 23.93990506, 39.47398139, 16.36700077,\n",
       "       55.96541938, 26.02885343, 41.54169825, 13.61984181, 22.25392058,\n",
       "       21.47266281, 44.1485661 , 46.95617824, 45.4832444 , 51.62854284,\n",
       "       59.87447849, 51.91071852, 13.71673789, 52.70877506, 19.73734024,\n",
       "       13.52088597, 56.88769112, 26.90535982, 20.128494  , 54.36809667,\n",
       "       14.03911144, 41.82597434, 34.46963585, 16.86303178, 53.61570232,\n",
       "       13.46206736, 37.70642319, 25.11020218, 21.06815762, 30.16257051,\n",
       "       24.5653819 , 35.70273886, 38.22596972, 24.24453294, 19.52066657,\n",
       "       19.22136044, 26.88629658, 47.54231022, 35.66449736, 59.40090869,\n",
       "       25.38798421, 35.3688634 , 12.15468128, 34.60085912, 31.13212456,\n",
       "       30.72368739, 49.02851899, 46.04130633, 22.62229182, 40.36820645,\n",
       "       43.61786659, 28.75053574, 11.40330521, 43.0512282 , 19.52094096,\n",
       "       26.73826784, 10.40019747, 33.21860208, 58.85158516, 22.21601324,\n",
       "       55.18735692, 50.53982842, 34.62404499, 29.93074561, 18.53954008,\n",
       "       38.60509512, 51.94603045, 41.40191791, 10.31109614, 53.59408966,\n",
       "       28.58580044, 27.79330931, 57.96479598, 16.80730749, 10.24516459,\n",
       "       28.36903752, 47.26013192, 29.10949089, 20.10131111, 28.15661787,\n",
       "       10.17507426, 23.46359007, 30.68524514, 12.68012528, 51.59306816,\n",
       "       33.59952343, 21.11202167, 45.78898682, 23.06495628, 59.0139255 ,\n",
       "       41.48369128, 16.7053098 , 23.1270352 , 33.59639093, 29.02747912,\n",
       "       52.84501793, 32.1717327 , 51.35506043, 15.20662794, 43.11380945,\n",
       "       52.60802168, 53.51390537, 53.67088146, 42.91665179, 58.72010914,\n",
       "       38.50231991, 52.16946474, 14.30021945, 49.83246654, 52.09970511,\n",
       "       50.7910157 , 50.66790162, 26.06117743, 51.029712  , 13.83290002,\n",
       "       23.43592144, 33.76114579, 31.95349534, 40.46355496, 43.014117  ,\n",
       "       30.13287372, 53.8358109 , 51.31534473, 40.06507585, 50.40658244,\n",
       "       35.30139859, 27.04521692, 57.67710192, 41.26355802, 51.54275914,\n",
       "       46.81465686, 55.45252654, 16.58487349, 47.58682412, 40.74343788,\n",
       "       22.09837623, 32.4632072 , 51.49674146, 19.91386099, 37.10116813,\n",
       "       13.83207167, 36.93995992, 23.15264765, 29.93094968, 30.50130358,\n",
       "       19.61118267, 51.45209059, 42.14701188, 47.40180556, 27.01983145,\n",
       "       28.25242229, 35.90482559, 37.25394557, 23.40647845, 14.5274002 ,\n",
       "       34.7286584 , 46.37665019, 39.99575782, 25.258809  , 39.18288693,\n",
       "       33.00921638, 32.5462133 , 42.87229894, 44.05486888, 23.57411341,\n",
       "       16.12197595, 15.56728842, 45.73224296, 10.7328937 , 42.76661565,\n",
       "       46.19005535, 10.93368657, 15.30981027, 31.19871117, 43.13848206,\n",
       "       35.653918  , 38.14802236, 49.85866888, 26.51816921, 46.5627159 ,\n",
       "       39.50182817, 39.17394482, 19.32401253, 25.53681462, 20.07218905,\n",
       "       23.79278102, 30.52263589, 25.59082904, 58.68750442, 57.85159065,\n",
       "       16.63843373, 39.44020964, 15.92062151, 11.94217973, 26.95437076,\n",
       "       47.75139391, 14.10300413, 21.99608767, 44.14847578, 49.15476399,\n",
       "       58.62955655, 12.53041088, 15.18074719, 18.60898314, 16.09849634,\n",
       "       31.66607551, 15.63466412, 45.30714451, 44.87379023, 58.9217969 ,\n",
       "       15.81169027, 29.48795602, 18.47188818, 22.6282049 , 10.32762045,\n",
       "       29.69482573, 50.22128521, 42.03884034, 12.03397981, 41.39835381,\n",
       "       35.35987421, 20.77756531, 34.98175739, 10.96287061, 55.45645993,\n",
       "       35.74825884, 16.4201888 , 23.56901297, 58.34712027, 32.54888813,\n",
       "       47.56443054, 46.94787473, 52.84016221, 43.24137456, 28.72045477,\n",
       "       10.5286223 , 55.96432204, 47.85962444, 11.86869693, 12.80405123,\n",
       "       35.58689148, 18.89234149, 28.26300801, 57.02674802, 23.44406345,\n",
       "       14.11829249, 10.47640605, 41.64298335, 29.84601556, 40.66622972,\n",
       "       19.99493388, 39.68761812, 32.5644676 , 57.023229  , 54.39814243,\n",
       "       28.96537605, 49.69907158, 38.24289012, 23.8969835 , 52.33255234,\n",
       "       22.9733887 , 13.39618931, 54.23181053, 47.88479623, 12.22608837,\n",
       "       22.17954194, 56.16497616, 29.75770645, 31.48559407, 48.30576794,\n",
       "       18.31628015, 35.05089324, 56.15130389, 36.00152973, 26.20965422,\n",
       "       22.76544891, 52.93258506, 11.56459549, 31.7689076 , 33.45222342,\n",
       "       28.07204766, 58.81299056, 29.90777346, 38.27223858, 29.87214306,\n",
       "       23.39460231, 58.41129048, 45.09087264, 46.49086933, 17.85338756,\n",
       "       58.81722434, 10.90278654, 33.90074489, 42.15338023, 14.8671237 ,\n",
       "       42.08052331, 29.88288854, 52.22928734, 57.80278402, 25.28928604,\n",
       "       10.00474721, 40.78221469, 32.88784246, 21.5444565 , 27.27270894,\n",
       "       59.73504261, 36.13338928, 37.02049247, 16.58336845, 21.80737516,\n",
       "       28.85968283, 48.33129251, 32.65972205, 52.37464998, 38.24172956,\n",
       "       10.60543791, 16.9282455 , 15.75629584, 11.31791293, 59.12030306,\n",
       "       25.01630617, 41.93487695, 20.86036756, 56.94818706, 54.77814454])"
      ]
     },
     "execution_count": 24,
     "metadata": {},
     "output_type": "execute_result"
    }
   ],
   "source": [
    "uniform_1(10,60,1000)"
   ]
  },
  {
   "cell_type": "code",
   "execution_count": 23,
   "metadata": {},
   "outputs": [
    {
     "data": {
      "text/plain": [
       "array([11.20840211, 14.60397186, 13.35898634, 10.52395086, 11.53770504,\n",
       "       13.38973005, 14.42168118, 12.37994856, 12.03645876, 12.50181607,\n",
       "       10.68665665, 10.60172462, 10.70813135, 13.29082918, 10.09987247,\n",
       "       10.47310735, 11.19004643, 12.73925227, 11.48941871, 11.68498298,\n",
       "       14.44796946, 13.81953181, 12.59335062, 13.31412773, 14.3776041 ,\n",
       "       14.43993256, 11.09684339, 12.91579586, 14.22442458, 12.91951101,\n",
       "       11.05151675, 14.36907202, 14.71139096, 12.71223941, 14.21286823,\n",
       "       14.80034353, 13.21802609, 14.25952749, 10.65140718, 11.02375938,\n",
       "       11.18827874, 14.2275556 , 13.25738254, 13.2293747 , 12.55512212,\n",
       "       11.44146477, 13.40897448, 10.07326723, 10.36495227, 14.90247217,\n",
       "       13.52600999, 10.06980801, 13.55641361, 12.47663505, 11.33248855,\n",
       "       13.25825528, 10.07772831, 12.42686974, 13.70114437, 13.55747773,\n",
       "       10.31931862, 11.33446166, 11.57989715, 11.24228915, 11.46608513,\n",
       "       11.82125914, 14.31240887, 13.71276427, 13.95628803, 10.51416704,\n",
       "       14.92764317, 12.97335702, 14.6494454 , 12.40514603, 13.38815267,\n",
       "       10.7117615 , 14.90466178, 13.59768931, 10.74607909, 13.66793626,\n",
       "       12.44371412, 14.97398384, 12.1989487 , 12.96651346, 14.37546029,\n",
       "       12.00977222, 12.53574174, 13.7329769 , 14.35754184, 11.95309673,\n",
       "       14.05488994, 13.66748948, 10.86991837, 11.79917921, 14.47581643,\n",
       "       13.02271513, 12.18896937, 10.0797016 , 14.87362373, 14.60026343])"
      ]
     },
     "execution_count": 23,
     "metadata": {},
     "output_type": "execute_result"
    }
   ],
   "source": [
    "uniform_2(10,15,100)"
   ]
  },
  {
   "cell_type": "code",
   "execution_count": 37,
   "metadata": {},
   "outputs": [
    {
     "data": {
      "image/png": "[encoded data removed]",
      "text/plain": [
       "<Figure size 432x288 with 2 Axes>"
      ]
     },
     "metadata": {
      "needs_background": "light"
     },
     "output_type": "display_data"
    }
   ],
   "source": [
    "fig, axs = plt.subplots(1,2)\n",
    "\n",
    "a = uniform_2(10,15,100)\n",
    "b = uniform_1(10,60,1000)\n",
    "\n",
    "axs[0].hist(a)\n",
    "axs[1].hist(b)\n",
    "\n",
    "axs[0].set_yticks(ticks = range(0,101,20))\n",
    "axs[1].set_yticks(ticks = range(0,101,20))\n",
    "\n",
    "axs[1].set_yticklabels(labels = []);"
   ]
  },
  {
   "cell_type": "markdown",
   "metadata": {},
   "source": [
    "How are the two distributions different?"
   ]
  },
  {
   "cell_type": "code",
   "execution_count": null,
   "metadata": {},
   "outputs": [],
   "source": [
    "# your answer below\n",
    "\n",
    "#todos los random numbers del count tienen la misma probabilidad de salir, no son diferentes"
   ]
  },
  {
   "cell_type": "markdown",
   "metadata": {},
   "source": [
    "## Normal Distribution\n",
    "\n",
    "1. In the same way in the Uniform Distribution challenge, write a function that generates normally distributed random numbers.\n",
    "1. Generate 1,000 normally distributed numbers with the average of 10 and standard deviation of 1\n",
    "1. Generate 1,000 normally distributed numbers with the average of 10 and standard deviation of 50\n",
    "2. Plot the distributions of the data generated.\n",
    "\n",
    "Expected output:\n",
    "\n",
    "![normal distribution](nd.png)"
   ]
  },
  {
   "cell_type": "code",
   "execution_count": 40,
   "metadata": {},
   "outputs": [],
   "source": [
    "from scipy.stats import norm"
   ]
  },
  {
   "cell_type": "code",
   "execution_count": 43,
   "metadata": {},
   "outputs": [],
   "source": [
    "# your code here\n",
    "\n",
    "def norm_1 (average, standard_dev, count):\n",
    "    return(norm.rvs(loc = average, scale = standard_dev, size = count))"
   ]
  },
  {
   "cell_type": "code",
   "execution_count": 55,
   "metadata": {},
   "outputs": [],
   "source": [
    "a = norm_1(10,1,1000)\n",
    "b = norm_1(10,50,1000)"
   ]
  },
  {
   "cell_type": "code",
   "execution_count": 56,
   "metadata": {},
   "outputs": [
    {
     "data": {
      "image/png": "[encoded data removed]",
      "text/plain": [
       "<Figure size 432x288 with 2 Axes>"
      ]
     },
     "metadata": {
      "needs_background": "light"
     },
     "output_type": "display_data"
    }
   ],
   "source": [
    "fig, axs = plt.subplots(1,2)\n",
    "\n",
    "axs[0].hist(a, bins = 50)\n",
    "axs[1].hist(b, bins = 50)\n",
    "\n",
    "axs[0].set_yticks(ticks = range(0,61,10))\n",
    "axs[1].set_yticks(ticks = range(0,61,10))\n",
    "\n",
    "axs[1].set_yticklabels(labels = []);"
   ]
  },
  {
   "cell_type": "markdown",
   "metadata": {},
   "source": [
    "How are the two distributions different?"
   ]
  },
  {
   "cell_type": "code",
   "execution_count": null,
   "metadata": {},
   "outputs": [],
   "source": [
    "# your answer below\n",
    "#en la segunda gráfica los datos están más distribuidos porque la desviación estándar es mayor "
   ]
  },
  {
   "cell_type": "markdown",
   "metadata": {},
   "source": [
    "## Normal Distribution of Real Data\n",
    "\n",
    "In this challenge we are going to take a look the real data. We will use vehicles.csv file for this exercise"
   ]
  },
  {
   "cell_type": "code",
   "execution_count": 57,
   "metadata": {},
   "outputs": [],
   "source": [
    "import pandas as pd"
   ]
  },
  {
   "cell_type": "code",
   "execution_count": 59,
   "metadata": {},
   "outputs": [
    {
     "data": {
      "text/html": [
       "<div>\n",
       "<style scoped>\n",
       "    .dataframe tbody tr th:only-of-type {\n",
       "        vertical-align: middle;\n",
       "    }\n",
       "\n",
       "    .dataframe tbody tr th {\n",
       "        vertical-align: top;\n",
       "    }\n",
       "\n",
       "    .dataframe thead th {\n",
       "        text-align: right;\n",
       "    }\n",
       "</style>\n",
       "<table border=\"1\" class=\"dataframe\">\n",
       "  <thead>\n",
       "    <tr style=\"text-align: right;\">\n",
       "      <th></th>\n",
       "      <th>Make</th>\n",
       "      <th>Model</th>\n",
       "      <th>Year</th>\n",
       "      <th>Engine Displacement</th>\n",
       "      <th>Cylinders</th>\n",
       "      <th>Transmission</th>\n",
       "      <th>Drivetrain</th>\n",
       "      <th>Vehicle Class</th>\n",
       "      <th>Fuel Type</th>\n",
       "      <th>Fuel Barrels/Year</th>\n",
       "      <th>City MPG</th>\n",
       "      <th>Highway MPG</th>\n",
       "      <th>Combined MPG</th>\n",
       "      <th>CO2 Emission Grams/Mile</th>\n",
       "      <th>Fuel Cost/Year</th>\n",
       "    </tr>\n",
       "  </thead>\n",
       "  <tbody>\n",
       "    <tr>\n",
       "      <th>0</th>\n",
       "      <td>AM General</td>\n",
       "      <td>DJ Po Vehicle 2WD</td>\n",
       "      <td>1984</td>\n",
       "      <td>2.5</td>\n",
       "      <td>4.0</td>\n",
       "      <td>Automatic 3-spd</td>\n",
       "      <td>2-Wheel Drive</td>\n",
       "      <td>Special Purpose Vehicle 2WD</td>\n",
       "      <td>Regular</td>\n",
       "      <td>19.388824</td>\n",
       "      <td>18</td>\n",
       "      <td>17</td>\n",
       "      <td>17</td>\n",
       "      <td>522.764706</td>\n",
       "      <td>1950</td>\n",
       "    </tr>\n",
       "    <tr>\n",
       "      <th>1</th>\n",
       "      <td>AM General</td>\n",
       "      <td>FJ8c Post Office</td>\n",
       "      <td>1984</td>\n",
       "      <td>4.2</td>\n",
       "      <td>6.0</td>\n",
       "      <td>Automatic 3-spd</td>\n",
       "      <td>2-Wheel Drive</td>\n",
       "      <td>Special Purpose Vehicle 2WD</td>\n",
       "      <td>Regular</td>\n",
       "      <td>25.354615</td>\n",
       "      <td>13</td>\n",
       "      <td>13</td>\n",
       "      <td>13</td>\n",
       "      <td>683.615385</td>\n",
       "      <td>2550</td>\n",
       "    </tr>\n",
       "  </tbody>\n",
       "</table>\n",
       "</div>"
      ],
      "text/plain": [
       "         Make              Model  Year  Engine Displacement  Cylinders  \\\n",
       "0  AM General  DJ Po Vehicle 2WD  1984                  2.5        4.0   \n",
       "1  AM General   FJ8c Post Office  1984                  4.2        6.0   \n",
       "\n",
       "      Transmission     Drivetrain                Vehicle Class Fuel Type  \\\n",
       "0  Automatic 3-spd  2-Wheel Drive  Special Purpose Vehicle 2WD   Regular   \n",
       "1  Automatic 3-spd  2-Wheel Drive  Special Purpose Vehicle 2WD   Regular   \n",
       "\n",
       "   Fuel Barrels/Year  City MPG  Highway MPG  Combined MPG  \\\n",
       "0          19.388824        18           17            17   \n",
       "1          25.354615        13           13            13   \n",
       "\n",
       "   CO2 Emission Grams/Mile  Fuel Cost/Year  \n",
       "0               522.764706            1950  \n",
       "1               683.615385            2550  "
      ]
     },
     "execution_count": 59,
     "metadata": {},
     "output_type": "execute_result"
    }
   ],
   "source": [
    "# your code here\n",
    "\n",
    "vehicles = pd.read_csv('vehicles.csv')\n",
    "vehicles.head(2)"
   ]
  },
  {
   "cell_type": "markdown",
   "metadata": {},
   "source": [
    "First import vehicles.csv.\n",
    "Then plot the histograms for the following variables:\n",
    "\n",
    "1. Fuel Barrels/Year"
   ]
  },
  {
   "cell_type": "code",
   "execution_count": 66,
   "metadata": {},
   "outputs": [
    {
     "data": {
      "image/png": "[encoded data removed]",
      "text/plain": [
       "<Figure size 432x288 with 1 Axes>"
      ]
     },
     "metadata": {
      "needs_background": "light"
     },
     "output_type": "display_data"
    }
   ],
   "source": [
    "# your code here\n",
    "\n",
    "plt.hist(vehicles['Fuel Barrels/Year'], bins = 80);"
   ]
  },
  {
   "cell_type": "markdown",
   "metadata": {},
   "source": [
    "2. CO2 Emission Grams/Mile "
   ]
  },
  {
   "cell_type": "code",
   "execution_count": 67,
   "metadata": {},
   "outputs": [
    {
     "data": {
      "image/png": "[encoded data removed]",
      "text/plain": [
       "<Figure size 432x288 with 1 Axes>"
      ]
     },
     "metadata": {
      "needs_background": "light"
     },
     "output_type": "display_data"
    }
   ],
   "source": [
    "# your code here\n",
    "\n",
    "plt.hist(vehicles['CO2 Emission Grams/Mile'], bins = 80);"
   ]
  },
  {
   "cell_type": "markdown",
   "metadata": {},
   "source": [
    "3. Combined MPG"
   ]
  },
  {
   "cell_type": "code",
   "execution_count": 68,
   "metadata": {},
   "outputs": [
    {
     "data": {
      "image/png": "[encoded data removed]",
      "text/plain": [
       "<Figure size 432x288 with 1 Axes>"
      ]
     },
     "metadata": {
      "needs_background": "light"
     },
     "output_type": "display_data"
    }
   ],
   "source": [
    "# your code here\n",
    "\n",
    "plt.hist(vehicles['Combined MPG'], bins = 80);"
   ]
  },
  {
   "cell_type": "markdown",
   "metadata": {},
   "source": [
    "Which one(s) of the variables are nearly normally distributed? How do you know?"
   ]
  },
  {
   "cell_type": "code",
   "execution_count": null,
   "metadata": {},
   "outputs": [],
   "source": [
    "# your answer here\n",
    "\n",
    "#la última gráfica de Combined MPG es en la que mejor se ve la forma de campana\n",
    "#y los datos están distribuidos más equitativamente tanto por abajo de la media como por arriba"
   ]
  },
  {
   "cell_type": "markdown",
   "metadata": {},
   "source": [
    "## Exponential Distribution"
   ]
  },
  {
   "cell_type": "markdown",
   "metadata": {},
   "source": [
    "1. Using `numpy.random.exponential`, create a function that returns a list of numbers exponentially distributed with the mean of 10. \n",
    "\n",
    "1. Use the function to generate two number sequences with the size of 1 and 100.\n",
    "\n",
    "1. Plot the distributions as histograms with the nubmer of bins as 100.\n",
    "\n",
    "Your output should look like below:\n",
    "\n",
    "![exponential distribution](ed.png)"
   ]
  },
  {
   "cell_type": "code",
   "execution_count": 73,
   "metadata": {},
   "outputs": [],
   "source": [
    "# your code here\n",
    "\n",
    "#https://numpy.org/doc/stable/reference/random/generated/numpy.random.uniform.html\n",
    "\n",
    "def exponencial_1(average, count):\n",
    "    return(np.random.exponential(scale = average, size = count))"
   ]
  },
  {
   "cell_type": "code",
   "execution_count": 80,
   "metadata": {},
   "outputs": [],
   "source": [
    "#En lugar de cambiar el tamaño de su muestra para cada gráfica lo que tiene que cambiar \n",
    "#es el valor de su lambda porque si no no les dará el resultado que les pide\n",
    "\n",
    "a = exponencial_1(1,1000)\n",
    "b = exponencial_1(100,1000)"
   ]
  },
  {
   "cell_type": "code",
   "execution_count": 81,
   "metadata": {},
   "outputs": [
    {
     "data": {
      "image/png": "[encoded data removed]",
      "text/plain": [
       "<Figure size 432x288 with 2 Axes>"
      ]
     },
     "metadata": {
      "needs_background": "light"
     },
     "output_type": "display_data"
    }
   ],
   "source": [
    "fig, axs = plt.subplots(1,2)\n",
    "\n",
    "axs[0].hist(a, bins = 100)\n",
    "axs[1].hist(b, bins = 100)\n",
    "\n",
    "axs[0].set_xticks(ticks = range(0,9,2))\n",
    "axs[1].set_xticks(ticks = range(0,601,200))\n",
    "\n",
    "axs[1].set_yticklabels(labels = []);"
   ]
  },
  {
   "cell_type": "markdown",
   "metadata": {},
   "source": [
    "How are the two distributions different?"
   ]
  },
  {
   "cell_type": "code",
   "execution_count": null,
   "metadata": {},
   "outputs": [],
   "source": [
    "# your answer here\n",
    "\n",
    "#la media de cada una es diferente pero el tamaño es igual"
   ]
  },
  {
   "cell_type": "markdown",
   "metadata": {},
   "source": [
    "## Exponential Distribution of Real Data\n",
    "\n",
    "Suppose that the amount of time one spends in a bank is exponentially distributed with mean as 10 minutes (i.e. λ = 1/10). What is the probability that a customer will spend less than fifteen minutes in the bank? \n",
    "\n",
    "Write a code in python to solve this problem"
   ]
  },
  {
   "cell_type": "code",
   "execution_count": null,
   "metadata": {},
   "outputs": [],
   "source": [
    "# your answer here\n",
    "# Hint: This is same as saying P(x<15)"
   ]
  },
  {
   "cell_type": "code",
   "execution_count": 82,
   "metadata": {},
   "outputs": [],
   "source": [
    "from scipy.stats import expon"
   ]
  },
  {
   "cell_type": "code",
   "execution_count": 96,
   "metadata": {},
   "outputs": [
    {
     "data": {
      "text/plain": [
       "0.7534030360583935"
      ]
     },
     "execution_count": 96,
     "metadata": {},
     "output_type": "execute_result"
    }
   ],
   "source": [
    "# your answer here\n",
    "\n",
    "a = expon.cdf(14, scale = 10)\n",
    "a"
   ]
  },
  {
   "cell_type": "markdown",
   "metadata": {},
   "source": [
    "What is the probability that the customer will spend more than 15 minutes"
   ]
  },
  {
   "cell_type": "code",
   "execution_count": 97,
   "metadata": {},
   "outputs": [
    {
     "data": {
      "text/plain": [
       "0.24659696394160646"
      ]
     },
     "execution_count": 97,
     "metadata": {},
     "output_type": "execute_result"
    }
   ],
   "source": [
    "# your answer here\n",
    "\n",
    "b = 1 - a\n",
    "b"
   ]
  }
 ],
 "metadata": {
  "kernelspec": {
   "display_name": "Python 3",
   "language": "python",
   "name": "python3"
  },
  "language_info": {
   "codemirror_mode": {
    "name": "ipython",
    "version": 3
   },
   "file_extension": ".py",
   "mimetype": "text/x-python",
   "name": "python",
   "nbconvert_exporter": "python",
   "pygments_lexer": "ipython3",
   "version": "3.8.6"
  }
 },
 "nbformat": 4,
 "nbformat_minor": 2
}
